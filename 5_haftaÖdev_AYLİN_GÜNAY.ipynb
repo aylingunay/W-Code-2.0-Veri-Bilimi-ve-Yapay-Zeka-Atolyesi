{
  "nbformat": 4,
  "nbformat_minor": 0,
  "metadata": {
    "colab": {
      "provenance": [],
      "include_colab_link": true
    },
    "kernelspec": {
      "name": "python3",
      "display_name": "Python 3"
    },
    "language_info": {
      "name": "python"
    }
  },
  "cells": [
    {
      "cell_type": "markdown",
      "metadata": {
        "id": "view-in-github",
        "colab_type": "text"
      },
      "source": [
        "<a href=\"https://colab.research.google.com/github/aylingunay/W-Code-2.0-Veri-Bilimi-ve-Yapay-Zeka-Atolyesi/blob/main/5_hafta%C3%96dev_AYL%C4%B0N_G%C3%9CNAY.ipynb\" target=\"_parent\"><img src=\"https://colab.research.google.com/assets/colab-badge.svg\" alt=\"Open In Colab\"/></a>"
      ]
    },
    {
      "cell_type": "code",
      "source": [
        "import numpy as np\n",
        "\n",
        "# 1 boyutlu array oluştur\n",
        "arr1 = np.array([4, 7, 2, 9, 1, 5], dtype=int)\n",
        "\n",
        "# Boyut ve eleman sayısı\n",
        "print(\"Array:\", arr1)\n",
        "print(\"Boyut (ndim):\", arr1.ndim)\n",
        "print(\"Eleman sayısı (size):\", arr1.size)\n",
        "print(\"Şekil (shape):\", arr1.shape)\n"
      ],
      "metadata": {
        "colab": {
          "base_uri": "https://localhost:8080/"
        },
        "id": "7IpqDuuMh6Zt",
        "outputId": "e28e97b1-7625-4f99-b8a8-b29d87264b8c"
      },
      "execution_count": 1,
      "outputs": [
        {
          "output_type": "stream",
          "name": "stdout",
          "text": [
            "Array: [4 7 2 9 1 5]\n",
            "Boyut (ndim): 1\n",
            "Eleman sayısı (size): 6\n",
            "Şekil (shape): (6,)\n"
          ]
        }
      ]
    },
    {
      "cell_type": "code",
      "source": [
        "# 2 boyutlu array\n",
        "arr2 = np.array([[1, 2, 6, 7],\n",
        "                 [4, 3, 9, 5]])\n",
        "\n",
        "# 3 boyutlu array\n",
        "arr3 = np.array([[[7, 5, 14], [21, 8, 11]],\n",
        "                 [[8, 6, 20], [14, 3, 9]]])\n",
        "\n",
        "# İki boyutlu array bilgileri\n",
        "print(\"\\nİki boyutlu array:\\n\", arr2)\n",
        "print(\"Boyut:\", arr2.ndim)\n",
        "print(\"Şekil (satır, sütun):\", arr2.shape)\n",
        "print(\"Eleman sayısı:\", arr2.size)\n",
        "\n",
        "# Üç boyutlu array bilgileri\n",
        "print(\"\\nÜç boyutlu array:\\n\", arr3)\n",
        "print(\"Boyut:\", arr3.ndim)\n",
        "print(\"Şekil:\", arr3.shape)\n",
        "print(\"Eleman sayısı:\", arr3.size)\n"
      ],
      "metadata": {
        "colab": {
          "base_uri": "https://localhost:8080/"
        },
        "id": "Spk0sCFsiFuA",
        "outputId": "83dfab19-c70d-419a-be7b-fcd27e60f897"
      },
      "execution_count": 2,
      "outputs": [
        {
          "output_type": "stream",
          "name": "stdout",
          "text": [
            "\n",
            "İki boyutlu array:\n",
            " [[1 2 6 7]\n",
            " [4 3 9 5]]\n",
            "Boyut: 2\n",
            "Şekil (satır, sütun): (2, 4)\n",
            "Eleman sayısı: 8\n",
            "\n",
            "Üç boyutlu array:\n",
            " [[[ 7  5 14]\n",
            "  [21  8 11]]\n",
            "\n",
            " [[ 8  6 20]\n",
            "  [14  3  9]]]\n",
            "Boyut: 3\n",
            "Şekil: (2, 2, 3)\n",
            "Eleman sayısı: 12\n"
          ]
        }
      ]
    },
    {
      "cell_type": "code",
      "source": [
        "# 2 boyutlu arrayden eleman çekme\n",
        "print(\"\\narr2[0,1] (2):\", arr2[0,1])     # 2\n",
        "print(\"arr2[0,3] (7):\", arr2[0,3])       # 7\n",
        "\n",
        "# 3 boyutlu arrayden eleman çekme\n",
        "print(\"arr3[1,1,2] (9):\", arr3[1,1,2])   # 9\n",
        "print(\"arr3[0,0,1] (5):\", arr3[0,0,1])   # 5\n"
      ],
      "metadata": {
        "colab": {
          "base_uri": "https://localhost:8080/"
        },
        "id": "rtEy6VOtiFnp",
        "outputId": "43ee5437-eadd-4cfd-bf93-774fab60e36d"
      },
      "execution_count": 3,
      "outputs": [
        {
          "output_type": "stream",
          "name": "stdout",
          "text": [
            "\n",
            "arr2[0,1] (2): 2\n",
            "arr2[0,3] (7): 7\n",
            "arr3[1,1,2] (9): 9\n",
            "arr3[0,0,1] (5): 5\n"
          ]
        }
      ]
    },
    {
      "cell_type": "code",
      "source": [
        "# 2 boyutlu array\n",
        "print(\"\\narr2[0,1:3] (2,6):\", arr2[0,1:3])     # 2,6\n",
        "print(\"arr2[1,1:] (3,9,5):\", arr2[1,1:])       # 3,9,5\n",
        "\n",
        "# 3 boyutlu array\n",
        "print(\"arr3[0,1,:] (21,8,11):\", arr3[0,1,:])   # 21,8,11\n",
        "print(\"arr3[1,0,1:3] (6,20):\", arr3[1,0,1:3])  # 6,20\n"
      ],
      "metadata": {
        "colab": {
          "base_uri": "https://localhost:8080/"
        },
        "id": "bo9IZRwYiFkX",
        "outputId": "8979fadb-67b9-48e8-cddd-9c9b3dfa8326"
      },
      "execution_count": 4,
      "outputs": [
        {
          "output_type": "stream",
          "name": "stdout",
          "text": [
            "\n",
            "arr2[0,1:3] (2,6): [2 6]\n",
            "arr2[1,1:] (3,9,5): [3 9 5]\n",
            "arr3[0,1,:] (21,8,11): [21  8 11]\n",
            "arr3[1,0,1:3] (6,20): [ 6 20]\n"
          ]
        }
      ]
    },
    {
      "cell_type": "code",
      "source": [
        "# 5x3 boyutlu sıfır ve bir arrayleri\n",
        "zeros_arr = np.zeros((5, 3), dtype=int)\n",
        "ones_arr = np.ones((5, 3), dtype=int)\n",
        "\n",
        "# Satır bazında birleştirme (alt alta)\n",
        "concat_rows = np.vstack((zeros_arr, ones_arr))\n",
        "\n",
        "# Sütun bazında birleştirme (yan yana)\n",
        "concat_cols = np.hstack((zeros_arr, ones_arr))\n",
        "\n",
        "print(\"\\nSatır bazında birleştirme:\\n\", concat_rows)\n",
        "print(\"Sütun bazında birleştirme:\\n\", concat_cols)\n"
      ],
      "metadata": {
        "colab": {
          "base_uri": "https://localhost:8080/"
        },
        "id": "2gUmb8LgiFey",
        "outputId": "3fa4e218-665e-4a99-f0fc-867178f3854e"
      },
      "execution_count": 5,
      "outputs": [
        {
          "output_type": "stream",
          "name": "stdout",
          "text": [
            "\n",
            "Satır bazında birleştirme:\n",
            " [[0 0 0]\n",
            " [0 0 0]\n",
            " [0 0 0]\n",
            " [0 0 0]\n",
            " [0 0 0]\n",
            " [1 1 1]\n",
            " [1 1 1]\n",
            " [1 1 1]\n",
            " [1 1 1]\n",
            " [1 1 1]]\n",
            "Sütun bazında birleştirme:\n",
            " [[0 0 0 1 1 1]\n",
            " [0 0 0 1 1 1]\n",
            " [0 0 0 1 1 1]\n",
            " [0 0 0 1 1 1]\n",
            " [0 0 0 1 1 1]]\n"
          ]
        }
      ]
    }
  ]
}
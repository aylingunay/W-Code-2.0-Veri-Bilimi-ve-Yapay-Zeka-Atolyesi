{
 "cells": [
  {
   "cell_type": "markdown",
   "metadata": {},
   "source": [
    "#### Ödev 1\n",
    "Kullanıcıdan pi değeri ve yarıçap bilgisi alarak dairenin alanını hesaplayan bir fonksiyon oluşturulur."
   ]
  },
  {
   "cell_type": "code",
   "execution_count": 9,
   "metadata": {
    "vscode": {
     "languageId": "plaintext"
    }
   },
   "outputs": [
    {
     "name": "stdin",
     "output_type": "stream",
     "text": [
      "pi sayısı: 3\n",
      "daire yarıçapı: 2\n"
     ]
    },
    {
     "name": "stdout",
     "output_type": "stream",
     "text": [
      "12.0\n"
     ]
    }
   ],
   "source": [
    "\n",
    "def daire_alanı(pi,r):\n",
    "    alan = pi*(r**2)\n",
    "    print(alan)\n",
    "    \n",
    "pi = float(input(\"pi sayısı:\"))\n",
    "r = int(input(\"daire yarıçapı:\"))\n",
    "\n",
    "daire_alanı(pi,r)\n",
    "\n"
   ]
  },
  {
   "cell_type": "markdown",
   "metadata": {},
   "source": [
    "#### Ödev 2\n",
    "\n",
    "Faktöriyel adında fonksiyon oluşturulur. Döngü kullanarak parametre olarak girilen sayının faktöriyeli hesaplanır. Format metodunu kullanılarak ekrana yazdırılır."
   ]
  },
  {
   "cell_type": "code",
   "execution_count": 21,
   "metadata": {
    "vscode": {
     "languageId": "plaintext"
    }
   },
   "outputs": [
    {
     "name": "stdin",
     "output_type": "stream",
     "text": [
      "faktöriyelini almak istediğiniz sayıyı giriniz: 4\n"
     ]
    },
    {
     "name": "stdout",
     "output_type": "stream",
     "text": [
      "Girilen 4 sayısının faktöriyeli: 24\n"
     ]
    }
   ],
   "source": [
    "def faktöriyel(x):\n",
    "    sonuc = 1\n",
    "    while x > 0 :\n",
    "        sonuc =  sonuc * x\n",
    "        x = x-1\n",
    "    return sonuc\n",
    "    \n",
    "sonuc = faktöriyel(x)\n",
    "x = int(input(\"faktöriyelini almak istediğiniz sayıyı giriniz:\"))\n",
    "print(\"Girilen {} sayısının faktöriyeli: {}\".format(x,sonuc))\n",
    "\n"
   ]
  },
  {
   "cell_type": "markdown",
   "metadata": {},
   "source": [
    "#### Ödev 3\n",
    "Kişinin fonksiyona doğum yılını vererek kaç yaşında olduğunu hesaplayan bir fonksiyon oluşturun. "
   ]
  },
  {
   "cell_type": "code",
   "execution_count": 23,
   "metadata": {
    "vscode": {
     "languageId": "plaintext"
    }
   },
   "outputs": [
    {
     "name": "stdin",
     "output_type": "stream",
     "text": [
      "doğum yılınız: 2005\n"
     ]
    },
    {
     "name": "stdout",
     "output_type": "stream",
     "text": [
      "doğum yılı 2005 olan bir kişinin yaşı: 20\n"
     ]
    }
   ],
   "source": [
    "def yas(x):\n",
    "    yas = 2025 - x\n",
    "    return yas\n",
    "    \n",
    "yas = yas(x)    \n",
    "x = int(input(\"doğum yılınız:\"))\n",
    "print(\"doğum yılı {} olan bir kişinin yaşı: {}\".format(x,yas))    "
   ]
  },
  {
   "cell_type": "markdown",
   "metadata": {},
   "source": [
    "#### Ödev 4\n",
    "\n",
    "Doğum yılı ve isim bilgisi verilen fonksiyon kişinin emekli olup olmadığını söylesin.(Kişi 65 yaşında ise emekli olur.) Burada yaş hesabını yukarıdaki örnekteki fonksiyonu kullanarak yapsın.(Yani fonksiyon içinde fonksiyon kullanmanızı istiyorum :)) Kişi 65 yaşında ya da daha fazlaysa \"Emekli oldunuz\" yanıtını, 65 yaşından küçükse emekliliğine kaç yıl kaldığını da hesaplayarak \"(isim) emekliliğine (yıl) kaldı.\" yanıtını versin."
   ]
  },
  {
   "cell_type": "code",
   "execution_count": 38,
   "metadata": {},
   "outputs": [
    {
     "name": "stdin",
     "output_type": "stream",
     "text": [
      "Doğum yılınızı girin:  2005\n",
      "İsminizi girin:  aylin\n"
     ]
    },
    {
     "name": "stdout",
     "output_type": "stream",
     "text": [
      "Doğum yılı 2005 olan aylin kişisinin yaşı: 20\n",
      "Emekliliğe kalan süre: 45 yıl\n"
     ]
    }
   ],
   "source": [
    "def emeklilik_durumu(dogum_yili, isim):\n",
    "    def yas_hesapla(x):\n",
    "        return 2025 - x\n",
    "\n",
    "    yas = yas_hesapla(dogum_yili)\n",
    "\n",
    "    print(\"Doğum yılı {} olan {} kişisinin yaşı: {}\".format(dogum_yili, isim, yas))\n",
    "\n",
    "    if yas >= 65:\n",
    "        print(\"Emekli oldunuz.\")\n",
    "    else:\n",
    "        print(\"Emekliliğe kalan süre: {} yıl\".format(65 - yas))\n",
    "\n",
    "# Kullanıcıdan giriş alınır\n",
    "x = int(input(\"Doğum yılınızı girin: \"))\n",
    "isim = input(\"İsminizi girin: \")\n",
    "\n",
    "# Fonksiyonu çağır\n",
    "emeklilik_durumu(x, isim)\n"
   ]
  },
  {
   "cell_type": "code",
   "execution_count": null,
   "metadata": {},
   "outputs": [],
   "source": []
  }
 ],
 "metadata": {
  "kernelspec": {
   "display_name": "Python [conda env:base] *",
   "language": "python",
   "name": "conda-base-py"
  },
  "language_info": {
   "codemirror_mode": {
    "name": "ipython",
    "version": 3
   },
   "file_extension": ".py",
   "mimetype": "text/x-python",
   "name": "python",
   "nbconvert_exporter": "python",
   "pygments_lexer": "ipython3",
   "version": "3.12.7"
  }
 },
 "nbformat": 4,
 "nbformat_minor": 4
}

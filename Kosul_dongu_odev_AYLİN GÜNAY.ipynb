{
 "cells": [
  {
   "cell_type": "markdown",
   "id": "409f0f4a",
   "metadata": {},
   "source": [
    "**Ödev-1:** Kullanıcıdan maaş bilgisini istenir ve bu bilgiye göre maaşından ne kadar vergi kesileceğini hesaplanır. Kullanıcının geliri;\n",
    "\n",
    "1. 10000 ve altındaysa maaşından %5 kesinti olur.\n",
    "2. 25000 ve altındaysa maaşından %10 kesinti olur.\n",
    "3. 45000 ve altındaysa maaşından %25 kesinti olur.\n",
    "4. Diğer koşullarda %30 kesinti olur.\n",
    "\n",
    "Bu durumlara göre kullanıcının yeni maaşı yazdırılır."
   ]
  },
  {
   "cell_type": "code",
   "execution_count": 5,
   "id": "5246e510",
   "metadata": {},
   "outputs": [
    {
     "name": "stdin",
     "output_type": "stream",
     "text": [
      "maaşınızı giriniz:  50000\n"
     ]
    },
    {
     "name": "stdout",
     "output_type": "stream",
     "text": [
      "yeni maaşınız: 35000.0\n"
     ]
    }
   ],
   "source": [
    "maas = int(input(\"maaşınızı giriniz: \"))\n",
    "\n",
    "if maas <= 10000 :\n",
    "    yeni_maas = maas-(maas*5/100)\n",
    "    print(\"yeni maaşınız:\",yeni_maas )\n",
    "\n",
    "elif maas <= 25000 :\n",
    "    yeni_maas = maas-(maas*10/100)\n",
    "    print(\"yeni maaşınız:\",yeni_maas )\n",
    "    \n",
    "elif maas <= 45000 :\n",
    "    yeni_maas = maas-(maas*25/100)\n",
    "    print(\"yeni maaşınız:\",yeni_maas )\n",
    "else:\n",
    "    yeni_maas = maas-(maas*30/100)\n",
    "    print(\"yeni maaşınız:\",yeni_maas )\n",
    "    "
   ]
  },
  {
   "cell_type": "markdown",
   "id": "f5fe8798",
   "metadata": {},
   "source": [
    "**Ödev-2:** Kullanıcıdan kullanıcı adı ve şifre oluşturmasını istenir. Şifrenin uzunluğu altı haneye ulaşmışsa hesabınız oluşturuldu mesajı alınır, altı haneden azsa altı haneli şifre oluşturması gerektiğinin mesajı alınır. *(Sadece koşul kullanılması yeterli.)*"
   ]
  },
  {
   "cell_type": "code",
   "execution_count": 12,
   "id": "6acffe57",
   "metadata": {},
   "outputs": [
    {
     "name": "stdin",
     "output_type": "stream",
     "text": [
      "kullanıcı adı giriniz: ayln\n",
      "şifre belirleyiniz: ayl123\n"
     ]
    },
    {
     "name": "stdout",
     "output_type": "stream",
     "text": [
      "hesabınız oluşturuldu\n"
     ]
    }
   ],
   "source": [
    "kullanici_adi = input(\"kullanıcı adı giriniz:\")\n",
    "sifre = input(\"şifre belirleyiniz:\")\n",
    "\n",
    "if len(sifre) == 6 :\n",
    "    print(\"hesabınız oluşturuldu\")\n",
    "\n",
    "elif len(sifre) < 6 :\n",
    "    print(\"çok kısa! şifreniz 6 haneli olmalı\")\n",
    "     \n",
    "elif len(sifre) > 6 :\n",
    "    print(\"çok uzun! şifreniz 6 haneli olmalı\")\n",
    "     \n",
    "\n"
   ]
  },
  {
   "cell_type": "markdown",
   "id": "aaccf11a",
   "metadata": {},
   "source": [
    "**Ödev-3:** Bir önceki örnek geliştirilir.\n",
    "\n",
    "1. Kullanıcı girdiği şifre 5 ve 10 hane arasında olmak zorunda.\n",
    "2. Eğer bu koşula uyuyorsa \"Hesabınız oluşturuldu.\" mesajı alır.\n",
    "3. Koşulu sağlamıyorsa \"Lütfen girdiniz şifre 5 haneden az 10 haneden fazla olmasın!\" uyarısı alır.\n",
    "4. Bunu oluştururken kullanıcı istediğimiz şartlarda şifre oluşturana kadar sormaya devam eder"
   ]
  },
  {
   "cell_type": "code",
   "execution_count": 26,
   "id": "039e50dc",
   "metadata": {},
   "outputs": [
    {
     "name": "stdin",
     "output_type": "stream",
     "text": [
      "kullanıcı adı giriniz: aylin\n",
      "şifre belirleyiniz: 123\n"
     ]
    },
    {
     "name": "stdout",
     "output_type": "stream",
     "text": [
      "Lütfen girdiğiniz şifre 5 haneden az 10 haneden fazla olmasın!\n"
     ]
    },
    {
     "name": "stdin",
     "output_type": "stream",
     "text": [
      "kullanıcı adı giriniz: aylin\n",
      "şifre belirleyiniz: aylin123456\n"
     ]
    },
    {
     "name": "stdout",
     "output_type": "stream",
     "text": [
      "Lütfen girdiğiniz şifre 5 haneden az 10 haneden fazla olmasın!\n"
     ]
    },
    {
     "name": "stdin",
     "output_type": "stream",
     "text": [
      "kullanıcı adı giriniz: aylin\n",
      "şifre belirleyiniz: ayl123\n"
     ]
    },
    {
     "name": "stdout",
     "output_type": "stream",
     "text": [
      "hesabınız oluşturuldu\n"
     ]
    }
   ],
   "source": [
    "while True:\n",
    "    kullanici_adi = input(\"kullanıcı adı giriniz:\")\n",
    "    sifre = input(\"şifre belirleyiniz:\")\n",
    "\n",
    "    if len(sifre) >= 5 and len(sifre) <= 10:\n",
    "        print(\"hesabınız oluşturuldu\")\n",
    "        break\n",
    "    else:\n",
    "        print(\"Lütfen girdiğiniz şifre 5 haneden az 10 haneden fazla olmasın!\")\n",
    "        "
   ]
  },
  {
   "cell_type": "markdown",
   "id": "09888cb4-7fd5-4304-91b4-f0fc939fa75f",
   "metadata": {},
   "source": [
    "**Ödev-4:** Kullanıcıdan isim ve şifre isteyeceğiz ve şifre girişi için üç hak verilir.\n",
    "\n",
    "1. Eğer önceden tanımlı şifre ile kullanıcıdan gelen şifre aynıysa \"Giriş yapıldı.\" yazar.\n",
    "2. Şifre girişi yanlışsa \"Yanlış şifre girildi!\" uyarısı verilsin ve üç yanlış denemede program biter.\n",
    "3. Tercihe göre kalan hak bilgisi verilir."
   ]
  },
  {
   "cell_type": "code",
   "execution_count": 66,
   "id": "8f45ea0c",
   "metadata": {},
   "outputs": [
    {
     "name": "stdin",
     "output_type": "stream",
     "text": [
      "Kullanıcı adı belirleyiniz:  aylin\n",
      "Şifre belirleyiniz:  ayl123\n"
     ]
    },
    {
     "name": "stdout",
     "output_type": "stream",
     "text": [
      "şifre ile giriş yapınız:\n"
     ]
    },
    {
     "name": "stdin",
     "output_type": "stream",
     "text": [
      "Şifrenizi giriniz:  ayl\n"
     ]
    },
    {
     "name": "stdout",
     "output_type": "stream",
     "text": [
      "Yanlış şifre girildi!\n",
      "Kalan deneme hakkı: 2\n"
     ]
    },
    {
     "name": "stdin",
     "output_type": "stream",
     "text": [
      "Şifrenizi giriniz:  ayl\n"
     ]
    },
    {
     "name": "stdout",
     "output_type": "stream",
     "text": [
      "Yanlış şifre girildi!\n",
      "Kalan deneme hakkı: 1\n"
     ]
    },
    {
     "name": "stdin",
     "output_type": "stream",
     "text": [
      "Şifrenizi giriniz:  ayl\n"
     ]
    },
    {
     "name": "stdout",
     "output_type": "stream",
     "text": [
      "Yanlış şifre girildi!\n",
      "3 kez yanlış şifre girildi. Program sonlandırılıyor.\n"
     ]
    }
   ],
   "source": [
    "\n",
    "kullanici_adi = input(\"Kullanıcı adı belirleyiniz: \")\n",
    "sifre = input(\"Şifre belirleyiniz: \")\n",
    "\n",
    "print(\"şifre ile giriş yapınız:\")\n",
    "hak = 3\n",
    "while hak > 0:\n",
    "    giris_sifre = input(\"Şifrenizi giriniz: \")\n",
    "    if giris_sifre == sifre:\n",
    "        print(\"Giriş yapıldı.\")\n",
    "        break\n",
    "    else:\n",
    "        hak -= 1\n",
    "        print(\"Yanlış şifre girildi!\")\n",
    "        if hak > 0:\n",
    "            print(\"Kalan deneme hakkı:\", hak)\n",
    "        else:\n",
    "            print(\"3 kez yanlış şifre girildi. Program sonlandırılıyor.\")\n",
    "\n",
    "\n",
    "            \n",
    "            \n",
    "\n",
    "\n",
    "   \n",
    "        \n"
   ]
  },
  {
   "cell_type": "code",
   "execution_count": null,
   "id": "381fc740-6477-476b-acf6-9dce4d5a156a",
   "metadata": {},
   "outputs": [],
   "source": []
  },
  {
   "cell_type": "code",
   "execution_count": null,
   "id": "ed16d107-0cea-4bbe-8275-3d614f943546",
   "metadata": {},
   "outputs": [],
   "source": []
  }
 ],
 "metadata": {
  "kernelspec": {
   "display_name": "Python [conda env:base] *",
   "language": "python",
   "name": "conda-base-py"
  },
  "language_info": {
   "codemirror_mode": {
    "name": "ipython",
    "version": 3
   },
   "file_extension": ".py",
   "mimetype": "text/x-python",
   "name": "python",
   "nbconvert_exporter": "python",
   "pygments_lexer": "ipython3",
   "version": "3.12.7"
  }
 },
 "nbformat": 4,
 "nbformat_minor": 5
}

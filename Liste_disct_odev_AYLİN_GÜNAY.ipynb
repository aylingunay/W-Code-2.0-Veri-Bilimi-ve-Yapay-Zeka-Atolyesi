{
  "cells": [
    {
      "cell_type": "markdown",
      "metadata": {
        "id": "view-in-github",
        "colab_type": "text"
      },
      "source": [
        "<a href=\"https://colab.research.google.com/github/aylingunay/W-Code-2.0-Veri-Bilimi-ve-Yapay-Zeka-Atolyesi/blob/main/Liste_disct_odev_AYL%C4%B0N_G%C3%9CNAY.ipynb\" target=\"_parent\"><img src=\"https://colab.research.google.com/assets/colab-badge.svg\" alt=\"Open In Colab\"/></a>"
      ]
    },
    {
      "cell_type": "markdown",
      "metadata": {
        "id": "tE9ZjH5lQn2-"
      },
      "source": [
        "### Ödev 1\n",
        "\n",
        "liste = [\"Python\",True,9,\"3\",8.4,\"Hi-Kod\",\"False\",4.7]\n",
        "\n",
        "1. Aşağıdaki işlemleri indexing ve slicing kullanarak liste üzerinde uygulayın.\n",
        "\n",
        "   - \"3\" değerine ulaşmak için indexleme yapın.\n",
        "   - \"Hi-Kod\" değerine ulaşmak için indexleme yapın.\n",
        "   - 4.7 değerine ulaşmak için indexleme yapın.\n",
        "   - 9,\"3\",8.4,\"Hi-Kod\" değerlerine ulaşmak için slicing yapın.\n",
        "   - 8.4,\"Hi-Kod\",\"False\",4.7 değerlerine ulaşmak için slicing yapın."
      ]
    },
    {
      "cell_type": "code",
      "source": [
        "liste = [\"Python\",True,9,\"3\",8.4,\"Hi-Kod\",\"False\",4.7]\n",
        "\n",
        "liste[3]\n",
        "liste[5]\n",
        "liste[7]\n",
        "liste[0:4]\n",
        "liste[4:8]"
      ],
      "metadata": {
        "id": "5gz53lMEeh4c",
        "outputId": "5e1cae4d-38f5-4b88-8a3f-c88bc5a81cba",
        "colab": {
          "base_uri": "https://localhost:8080/"
        }
      },
      "execution_count": 5,
      "outputs": [
        {
          "output_type": "execute_result",
          "data": {
            "text/plain": [
              "[8.4, 'Hi-Kod', 'False', 4.7]"
            ]
          },
          "metadata": {},
          "execution_count": 5
        }
      ]
    },
    {
      "cell_type": "markdown",
      "metadata": {
        "id": "PU_vatZVQn3E"
      },
      "source": [
        "### Ödev 2\n",
        "\n",
        "Verilen listede bulunan string veri tipindeki öğeleri yeni_liste isimli listeye eklenir.\n",
        "\n",
        "liste = [\"Python\",True,9,\"3\",8.4,\"Hi-Kod\",\"False\",4.7]"
      ]
    },
    {
      "cell_type": "code",
      "execution_count": 13,
      "metadata": {
        "id": "k036-a4qQn3F",
        "colab": {
          "base_uri": "https://localhost:8080/"
        },
        "outputId": "f002e86b-4d69-4c28-cc81-57413120514b"
      },
      "outputs": [
        {
          "output_type": "execute_result",
          "data": {
            "text/plain": [
              "['Python', '3', 'Hi-Kod', 'False']"
            ]
          },
          "metadata": {},
          "execution_count": 13
        }
      ],
      "source": [
        "liste = [\"Python\",True,9,\"3\",8.4,\"Hi-Kod\",\"False\",4.7]\n",
        "yeni_liste = []\n",
        "\n",
        "for i in liste:\n",
        "    if type(i) == str:\n",
        "        yeni_liste.append(i)\n",
        "\n",
        "yeni_liste"
      ]
    },
    {
      "cell_type": "markdown",
      "metadata": {
        "id": "LKspMidRQn3G"
      },
      "source": [
        "### Ödev 3\n",
        "\n",
        "Enumerate methodunu araştırın ve aşağıdaki örneği enumerate methodu ile yapın."
      ]
    },
    {
      "cell_type": "code",
      "execution_count": 7,
      "metadata": {
        "id": "uKwshjmAQn3G",
        "colab": {
          "base_uri": "https://localhost:8080/"
        },
        "outputId": "92b9a0f9-912b-4692-a78d-b8dbfcf51e71"
      },
      "outputs": [
        {
          "output_type": "stream",
          "name": "stdout",
          "text": [
            "0. indexte bulunan meyve: elma\n",
            "1. indexte bulunan meyve: armut\n",
            "2. indexte bulunan meyve: muz\n",
            "3. indexte bulunan meyve: kiraz\n",
            "4. indexte bulunan meyve: mandalina\n"
          ]
        }
      ],
      "source": [
        "meyveler = [\"elma\",\"armut\",\"muz\",\"kiraz\",\"mandalina\"]\n",
        "for index in range(len(meyveler)):\n",
        "\n",
        "    print(\"{}. indexte bulunan meyve: {}\".format(index,meyveler[index]))\n",
        "\n"
      ]
    },
    {
      "cell_type": "code",
      "source": [
        "for index, meyve in enumerate(meyveler):\n",
        "    print(\"{}. indexte bulunan meyve: {}\".format(index, meyve))\n"
      ],
      "metadata": {
        "colab": {
          "base_uri": "https://localhost:8080/"
        },
        "id": "w4jnYaisfABV",
        "outputId": "ba07d569-0302-4db4-e35e-bbb98065402e"
      },
      "execution_count": 18,
      "outputs": [
        {
          "output_type": "stream",
          "name": "stdout",
          "text": [
            "0. indexte bulunan meyve: elma\n",
            "1. indexte bulunan meyve: armut\n",
            "2. indexte bulunan meyve: muz\n",
            "3. indexte bulunan meyve: kiraz\n",
            "4. indexte bulunan meyve: mandalina\n"
          ]
        }
      ]
    },
    {
      "cell_type": "markdown",
      "metadata": {
        "id": "ZmwK7TWhQn3H"
      },
      "source": []
    },
    {
      "cell_type": "markdown",
      "source": [
        "## Sozluk"
      ],
      "metadata": {
        "id": "M_DfcqxXQubL"
      }
    },
    {
      "cell_type": "markdown",
      "source": [
        "1. Bir sözlük oluşturulur ve bu sözlükte öğrencilerin isimleri ve Matematik, Fizik, Kimya notları tutulur. Kullanıcıdan isim ve ders ismi(Matematik, Fizik, Kimya) istenir ve bu bilgilere göre çıktı verilir."
      ],
      "metadata": {
        "id": "ZMXFFucEQxxD"
      }
    },
    {
      "cell_type": "markdown",
      "source": [
        "2. Sözlük üzerinde değerleri değiştirme, yeni değer ekleme, kullanıcıya ulaşmak istediği bilgileri sorma gibi uygulamalar yapın."
      ],
      "metadata": {
        "id": "8NJYTepzQ13V"
      }
    },
    {
      "cell_type": "code",
      "source": [
        "\n",
        "notlar = {\n",
        "    \"Ayşe\": {\"Matematik\": 85, \"Fizik\": 90, \"Kimya\": 78},\n",
        "    \"Mehmet\": {\"Matematik\": 72, \"Fizik\": 80, \"Kimya\": 88},\n",
        "    \"Zeynep\": {\"Matematik\": 95, \"Fizik\": 92, \"Kimya\": 90}\n",
        "}\n",
        "\n",
        "def ogrenci_bilgisi_goster(isim, ders):\n",
        "    if isim in notlar:\n",
        "        if ders in notlar[isim]:\n",
        "            print(f\"{isim} adlı öğrencinin {ders} notu: {notlar[isim][ders]}\")\n",
        "        else:\n",
        "            print(f\"{ders} dersi bulunamadı.\")\n",
        "    else:\n",
        "        print(f\"{isim} adlı öğrenci bulunamadı.\")\n",
        "\n",
        "def not_guncelle(isim, ders, yeni_not):\n",
        "    if isim in notlar and ders in notlar[isim]:\n",
        "        notlar[isim][ders] = yeni_not\n",
        "        print(f\"{isim} adlı öğrencinin {ders} notu {yeni_not} olarak güncellendi.\")\n",
        "    else:\n",
        "        print(\"Öğrenci veya ders bulunamadı.\")\n",
        "\n",
        "def yeni_ogrenci_ekle(isim, mat, fiz, kim):\n",
        "    if isim not in notlar:\n",
        "        notlar[isim] = {\"Matematik\": mat, \"Fizik\": fiz, \"Kimya\": kim}\n",
        "        print(f\"{isim} adlı öğrenci eklendi.\")\n",
        "    else:\n",
        "        print(\"Bu isimde bir öğrenci zaten var.\")\n",
        "\n",
        "def menu():\n",
        "    while True:\n",
        "        print(\"\\n1- Not Sorgula\")\n",
        "        print(\"2- Not Güncelle\")\n",
        "        print(\"3- Yeni Öğrenci Ekle\")\n",
        "        print(\"4- Tüm Sözlüğü Gör\")\n",
        "        print(\"5- Çıkış\")\n",
        "        secim = input(\"Seçiminiz (1-5): \")\n",
        "\n",
        "        if secim == \"1\":\n",
        "            isim = input(\"Öğrenci ismi: \")\n",
        "            ders = input(\"Ders ismi (Matematik, Fizik, Kimya): \")\n",
        "            ogrenci_bilgisi_goster(isim, ders)\n",
        "        elif secim == \"2\":\n",
        "            isim = input(\"Öğrenci ismi: \")\n",
        "            ders = input(\"Ders ismi: \")\n",
        "            try:\n",
        "                yeni_not = int(input(\"Yeni not: \"))\n",
        "                not_guncelle(isim, ders, yeni_not)\n",
        "            except ValueError:\n",
        "                print(\"Lütfen geçerli bir sayı girin.\")\n",
        "        elif secim == \"3\":\n",
        "            isim = input(\"Yeni öğrenci ismi: \")\n",
        "            try:\n",
        "                mat = int(input(\"Matematik notu: \"))\n",
        "                fiz = int(input(\"Fizik notu: \"))\n",
        "                kim = int(input(\"Kimya notu: \"))\n",
        "                yeni_ogrenci_ekle(isim, mat, fiz, kim)\n",
        "            except ValueError:\n",
        "                print(\"Lütfen tüm notları sayı olarak girin.\")\n",
        "        elif secim == \"4\":\n",
        "            for isim, dersler in notlar.items():\n",
        "                print(f\"{isim}: {dersler}\")\n",
        "        elif secim == \"5\":\n",
        "            print(\"Programdan çıkılıyor.\")\n",
        "            break\n",
        "        else:\n",
        "            print(\"Geçersiz seçim. Lütfen 1-5 arasında bir değer girin.\")\n",
        "\n",
        "# Programı çalıştır\n",
        "menu()\n"
      ],
      "metadata": {
        "id": "Sl7EK7FDQsW1",
        "colab": {
          "base_uri": "https://localhost:8080/"
        },
        "outputId": "e2c81244-a5e3-496a-86d2-274ffa75e49f"
      },
      "execution_count": 19,
      "outputs": [
        {
          "output_type": "stream",
          "name": "stdout",
          "text": [
            "\n",
            "1- Not Sorgula\n",
            "2- Not Güncelle\n",
            "3- Yeni Öğrenci Ekle\n",
            "4- Tüm Sözlüğü Gör\n",
            "5- Çıkış\n",
            "Seçiminiz (1-5): 4\n",
            "Ayşe: {'Matematik': 85, 'Fizik': 90, 'Kimya': 78}\n",
            "Mehmet: {'Matematik': 72, 'Fizik': 80, 'Kimya': 88}\n",
            "Zeynep: {'Matematik': 95, 'Fizik': 92, 'Kimya': 90}\n",
            "\n",
            "1- Not Sorgula\n",
            "2- Not Güncelle\n",
            "3- Yeni Öğrenci Ekle\n",
            "4- Tüm Sözlüğü Gör\n",
            "5- Çıkış\n",
            "Seçiminiz (1-5): 1\n",
            "Öğrenci ismi: Ayşe\n",
            "Ders ismi (Matematik, Fizik, Kimya): Fizik\n",
            "Ayşe adlı öğrencinin Fizik notu: 90\n",
            "\n",
            "1- Not Sorgula\n",
            "2- Not Güncelle\n",
            "3- Yeni Öğrenci Ekle\n",
            "4- Tüm Sözlüğü Gör\n",
            "5- Çıkış\n",
            "Seçiminiz (1-5): 5\n",
            "Programdan çıkılıyor.\n"
          ]
        }
      ]
    }
  ],
  "metadata": {
    "language_info": {
      "name": "python"
    },
    "colab": {
      "provenance": [],
      "include_colab_link": true
    },
    "kernelspec": {
      "name": "python3",
      "display_name": "Python 3"
    }
  },
  "nbformat": 4,
  "nbformat_minor": 0
}
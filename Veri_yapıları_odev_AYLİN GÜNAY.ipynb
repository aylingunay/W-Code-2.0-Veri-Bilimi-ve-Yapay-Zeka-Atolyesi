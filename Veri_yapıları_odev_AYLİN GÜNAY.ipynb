{
 "cells": [
  {
   "cell_type": "markdown",
   "id": "032d81b2",
   "metadata": {},
   "source": [
    "# 1\n",
    "x = 3 ----> floata çevirelim. Çevirdikten sonra beri tipinide yazdıralım.\n",
    "\n",
    "y = 4.5 -----> integere çevirelim. Çevirdikten sonra beri tipinide yazdıralım.\n",
    "\n",
    "z = \"8\" -----> integera çevirelim. Çevirdikten sonra beri tipinide yazdıralım.\n",
    "\n",
    "a = \"12\" -----> floata çevirelim. Çevirdikten sonra beri tipinide yazdıralım.\n",
    "\n",
    "b = \"46.8\" ------> integera çevirelim. Çevirdikten sonra beri tipinide yazdıralım."
   ]
  },
  {
   "cell_type": "code",
   "execution_count": 5,
   "id": "f1b735c0",
   "metadata": {},
   "outputs": [
    {
     "name": "stdout",
     "output_type": "stream",
     "text": [
      "3.0\n"
     ]
    },
    {
     "data": {
      "text/plain": [
       "float"
      ]
     },
     "execution_count": 5,
     "metadata": {},
     "output_type": "execute_result"
    }
   ],
   "source": [
    "x = 3\n",
    "x_new = float(x)\n",
    "print(x_new)\n",
    "type(x_new)"
   ]
  },
  {
   "cell_type": "code",
   "execution_count": 6,
   "id": "bc8d0642-7a18-44a5-835f-35b57df0b1f2",
   "metadata": {},
   "outputs": [
    {
     "name": "stdout",
     "output_type": "stream",
     "text": [
      "4\n"
     ]
    },
    {
     "data": {
      "text/plain": [
       "int"
      ]
     },
     "execution_count": 6,
     "metadata": {},
     "output_type": "execute_result"
    }
   ],
   "source": [
    "y = 4.5\n",
    "y_new = int(4.5)\n",
    "print(y_new)\n",
    "type(y_new)"
   ]
  },
  {
   "cell_type": "code",
   "execution_count": 8,
   "id": "1fcad366-31b8-4e01-8980-191582833312",
   "metadata": {},
   "outputs": [
    {
     "name": "stdout",
     "output_type": "stream",
     "text": [
      "8\n"
     ]
    },
    {
     "data": {
      "text/plain": [
       "int"
      ]
     },
     "execution_count": 8,
     "metadata": {},
     "output_type": "execute_result"
    }
   ],
   "source": [
    "z = 8\n",
    "z_new = int(z)\n",
    "print(z_new)\n",
    "type(z_new)"
   ]
  },
  {
   "cell_type": "code",
   "execution_count": 9,
   "id": "d73bb4a7-b94e-4f86-bb8d-0cbeec1c9cf6",
   "metadata": {},
   "outputs": [
    {
     "name": "stdout",
     "output_type": "stream",
     "text": [
      "12.0\n"
     ]
    },
    {
     "data": {
      "text/plain": [
       "float"
      ]
     },
     "execution_count": 9,
     "metadata": {},
     "output_type": "execute_result"
    }
   ],
   "source": [
    "a = 12\n",
    "a_new = float(a)\n",
    "print(a_new)\n",
    "type(a_new)\n"
   ]
  },
  {
   "cell_type": "code",
   "execution_count": 10,
   "id": "a720bf8c-d9ec-4669-994f-bb18a81b0258",
   "metadata": {},
   "outputs": [
    {
     "name": "stdout",
     "output_type": "stream",
     "text": [
      "46\n"
     ]
    },
    {
     "data": {
      "text/plain": [
       "int"
      ]
     },
     "execution_count": 10,
     "metadata": {},
     "output_type": "execute_result"
    }
   ],
   "source": [
    "b = 46.8\n",
    "b_new = int(b)\n",
    "print(b_new)\n",
    "type(b_new)"
   ]
  },
  {
   "cell_type": "markdown",
   "id": "95509718",
   "metadata": {},
   "source": [
    "# 2 \n",
    "İsimlerden oluşan üç değişkene yaş değerleri atanır. Belirlenen üç değişken birbiriyle karşılaştırma operatörleri ile karşılaştırılır. Bu karşılaştırmalara mantıksal operatörler de eklenir."
   ]
  },
  {
   "cell_type": "code",
   "execution_count": 14,
   "id": "50f77b4f",
   "metadata": {},
   "outputs": [],
   "source": [
    "Aylin = 20\n",
    "Emir = 12\n",
    "Bahar = 50"
   ]
  },
  {
   "cell_type": "code",
   "execution_count": 15,
   "id": "c8f5ef17-ea8a-4458-bd2e-d00080cf3d73",
   "metadata": {},
   "outputs": [
    {
     "data": {
      "text/plain": [
       "True"
      ]
     },
     "execution_count": 15,
     "metadata": {},
     "output_type": "execute_result"
    }
   ],
   "source": [
    "Aylin > Emir"
   ]
  },
  {
   "cell_type": "code",
   "execution_count": 16,
   "id": "03d4c29e-8dd4-4fd9-add6-d7def00b3d20",
   "metadata": {},
   "outputs": [
    {
     "data": {
      "text/plain": [
       "False"
      ]
     },
     "execution_count": 16,
     "metadata": {},
     "output_type": "execute_result"
    }
   ],
   "source": [
    "Bahar == Aylin"
   ]
  },
  {
   "cell_type": "code",
   "execution_count": 17,
   "id": "5c5a1239-95dd-4b80-b428-4b50f8238140",
   "metadata": {},
   "outputs": [
    {
     "data": {
      "text/plain": [
       "True"
      ]
     },
     "execution_count": 17,
     "metadata": {},
     "output_type": "execute_result"
    }
   ],
   "source": [
    "Emir != Bahar"
   ]
  },
  {
   "cell_type": "code",
   "execution_count": 18,
   "id": "4846fee9-d8c3-4c2d-b80d-0916784f544d",
   "metadata": {},
   "outputs": [
    {
     "data": {
      "text/plain": [
       "True"
      ]
     },
     "execution_count": 18,
     "metadata": {},
     "output_type": "execute_result"
    }
   ],
   "source": [
    "Aylin > Emir and Emir < Bahar"
   ]
  },
  {
   "cell_type": "code",
   "execution_count": 19,
   "id": "f13f367c-9b05-4932-b0cb-bdc3490f197e",
   "metadata": {},
   "outputs": [
    {
     "data": {
      "text/plain": [
       "False"
      ]
     },
     "execution_count": 19,
     "metadata": {},
     "output_type": "execute_result"
    }
   ],
   "source": [
    "Aylin < Bahar and Bahar < Emir"
   ]
  },
  {
   "cell_type": "code",
   "execution_count": 20,
   "id": "9abb377e-c422-4847-8b89-9e8ec347addf",
   "metadata": {},
   "outputs": [
    {
     "data": {
      "text/plain": [
       "True"
      ]
     },
     "execution_count": 20,
     "metadata": {},
     "output_type": "execute_result"
    }
   ],
   "source": [
    "(Aylin < Bahar) or (Bahar < Emir)"
   ]
  },
  {
   "cell_type": "code",
   "execution_count": 24,
   "id": "1a14d7e1-f570-47c4-a1e1-dc7f0551dad1",
   "metadata": {},
   "outputs": [
    {
     "data": {
      "text/plain": [
       "False"
      ]
     },
     "execution_count": 24,
     "metadata": {},
     "output_type": "execute_result"
    }
   ],
   "source": [
    "not((Aylin < Bahar) or (Bahar < Emir))"
   ]
  },
  {
   "cell_type": "markdown",
   "id": "a1a0eb92",
   "metadata": {},
   "source": [
    "# 3\n",
    "Kullanıcıdan iki değer girmesini istenir. Girilen değerlerin toplama, çıkarma, çarpma, bölme sonuçlarını yazdırılır."
   ]
  },
  {
   "cell_type": "code",
   "execution_count": 30,
   "id": "c361e45a",
   "metadata": {},
   "outputs": [
    {
     "name": "stdin",
     "output_type": "stream",
     "text": [
      "birinci sayıyı giriniz: 8\n",
      "ikinci sayıyı giriniz: 4\n"
     ]
    },
    {
     "name": "stdout",
     "output_type": "stream",
     "text": [
      "toplam: 12\n",
      "çıkarma: 4\n",
      "çarpma: 32\n",
      "bölme: 2.0\n"
     ]
    }
   ],
   "source": [
    "x = int(input(\"birinci sayıyı giriniz:\"))\n",
    "y = int(input(\"ikinci sayıyı giriniz:\"))\n",
    "\n",
    "print(\"toplam:\", x+y)\n",
    "print(\"çıkarma:\", x-y)\n",
    "print(\"çarpma:\", x*y)\n",
    "print(\"bölme:\", x/y)"
   ]
  },
  {
   "cell_type": "markdown",
   "id": "060b0bea",
   "metadata": {},
   "source": [
    "# 4\n",
    "Kullanıcıdan isim, yaş, şehir ve meslek bilgilerini istenir ve cevaplarını yazdırılır."
   ]
  },
  {
   "cell_type": "code",
   "execution_count": 31,
   "id": "6f5dea59",
   "metadata": {},
   "outputs": [
    {
     "name": "stdin",
     "output_type": "stream",
     "text": [
      "isminiz: Aylin\n",
      "yaşınız: 20\n",
      "yaşadığınız şehir: İstanbul\n",
      "mesleğiniz: Makine Mühendisi\n"
     ]
    },
    {
     "name": "stdout",
     "output_type": "stream",
     "text": [
      "Aylin\n",
      "20\n",
      "İstanbul\n",
      "Makine Mühendisi\n"
     ]
    }
   ],
   "source": [
    "isim = input(\"isminiz:\")\n",
    "yas = input(\"yaşınız:\")\n",
    "sehir = input(\"yaşadığınız şehir:\")\n",
    "meslek = input(\"mesleğiniz:\")\n",
    "\n",
    "print(isim)\n",
    "print(yas)\n",
    "print(sehir)\n",
    "print(meslek)"
   ]
  },
  {
   "cell_type": "markdown",
   "id": "55e1a34e",
   "metadata": {},
   "source": [
    "# 5\n",
    "\"Hi-Kod Veri Bilimi Atölyesi\" ifadesini bir değişkene tanımlanır.\n",
    "\n",
    "\n",
    " 1. İfadedeki her bir kelimeyi (\"Hi-Kod\", \"Veri\", \"Bilimi\", \"Atölyesi\") değişken içinden seçilir. \n",
    " 2. İfadeyi hepsini büyük harf olacak hale çevrilir. (\"HI-KOD VERİ BİLİMİ ATÖLYESİ\") \n",
    " 3. İfadeyi hepsini büyük harf olacak hale çevrilir.(\"hi-kod veri bilimi atölyesi\") \n",
    "\n",
    "\"0123456789\" ifadesindeki yalnızca çift sayıları ve yalnızca tek sayıları seçilir. (\"02468\", \"13579\")"
   ]
  },
  {
   "cell_type": "code",
   "execution_count": 56,
   "id": "0fc1bc40",
   "metadata": {},
   "outputs": [
    {
     "data": {
      "text/plain": [
       "['Hi-Kod', 'Veri', 'Bilimi', 'Atölyesi']"
      ]
     },
     "execution_count": 56,
     "metadata": {},
     "output_type": "execute_result"
    }
   ],
   "source": [
    "x = \"Hi-Kod Veri Bilimi Atölyesi\"\n",
    "x.split()\n"
   ]
  },
  {
   "cell_type": "code",
   "execution_count": 57,
   "id": "c7377918-5eb5-4ba2-9564-8931548a5221",
   "metadata": {},
   "outputs": [
    {
     "data": {
      "text/plain": [
       "'Hi-Kod'"
      ]
     },
     "execution_count": 57,
     "metadata": {},
     "output_type": "execute_result"
    }
   ],
   "source": [
    "x[0:6]"
   ]
  },
  {
   "cell_type": "code",
   "execution_count": 59,
   "id": "71e685e6-db81-4501-a4c2-89cfafb68ae7",
   "metadata": {},
   "outputs": [
    {
     "data": {
      "text/plain": [
       "'Veri'"
      ]
     },
     "execution_count": 59,
     "metadata": {},
     "output_type": "execute_result"
    }
   ],
   "source": [
    "x[7:11]"
   ]
  },
  {
   "cell_type": "code",
   "execution_count": 60,
   "id": "a7aaea59-d1f5-417b-b31a-03072cd1547b",
   "metadata": {},
   "outputs": [
    {
     "data": {
      "text/plain": [
       "'Bilimi'"
      ]
     },
     "execution_count": 60,
     "metadata": {},
     "output_type": "execute_result"
    }
   ],
   "source": [
    "x[12:18]"
   ]
  },
  {
   "cell_type": "code",
   "execution_count": 62,
   "id": "b6be5a8e-8ceb-4357-a533-4952e174cb27",
   "metadata": {},
   "outputs": [
    {
     "data": {
      "text/plain": [
       "' Atölyesi'"
      ]
     },
     "execution_count": 62,
     "metadata": {},
     "output_type": "execute_result"
    }
   ],
   "source": [
    "x[18:27]"
   ]
  },
  {
   "cell_type": "code",
   "execution_count": 34,
   "id": "6464f2d5-add0-4035-be98-296270ab87e4",
   "metadata": {},
   "outputs": [
    {
     "data": {
      "text/plain": [
       "'HI-KOD VERI BILIMI ATÖLYESI'"
      ]
     },
     "execution_count": 34,
     "metadata": {},
     "output_type": "execute_result"
    }
   ],
   "source": [
    "x.upper()"
   ]
  },
  {
   "cell_type": "code",
   "execution_count": 35,
   "id": "4cc15622-b752-4f2d-8a85-fd9abfe5304a",
   "metadata": {},
   "outputs": [
    {
     "data": {
      "text/plain": [
       "'hi-kod veri bilimi atölyesi'"
      ]
     },
     "execution_count": 35,
     "metadata": {},
     "output_type": "execute_result"
    }
   ],
   "source": [
    "x.lower()"
   ]
  },
  {
   "cell_type": "code",
   "execution_count": 69,
   "id": "70b11e40-81bd-42df-8e60-ad78834517fa",
   "metadata": {},
   "outputs": [
    {
     "name": "stdout",
     "output_type": "stream",
     "text": [
      "02468\n",
      "13579\n"
     ]
    }
   ],
   "source": [
    "y = \"0123456789\"\n",
    "y_even = y[0:10:2]\n",
    "y_odd = y[1:10:2]\n",
    "print(y_even)\n",
    "print(y_odd)"
   ]
  },
  {
   "cell_type": "code",
   "execution_count": null,
   "id": "39089cd6-3412-4f73-9caf-da2666d970ec",
   "metadata": {},
   "outputs": [],
   "source": []
  },
  {
   "cell_type": "code",
   "execution_count": null,
   "id": "9c4d180c-e92c-48d8-9df0-0d0c5a5d6cf2",
   "metadata": {},
   "outputs": [],
   "source": []
  }
 ],
 "metadata": {
  "kernelspec": {
   "display_name": "Python [conda env:base] *",
   "language": "python",
   "name": "conda-base-py"
  },
  "language_info": {
   "codemirror_mode": {
    "name": "ipython",
    "version": 3
   },
   "file_extension": ".py",
   "mimetype": "text/x-python",
   "name": "python",
   "nbconvert_exporter": "python",
   "pygments_lexer": "ipython3",
   "version": "3.12.7"
  }
 },
 "nbformat": 4,
 "nbformat_minor": 5
}
